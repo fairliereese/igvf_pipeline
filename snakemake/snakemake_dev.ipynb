{
 "cells": [
  {
   "cell_type": "code",
   "execution_count": 5,
   "id": "8062d3fa-d2d8-459e-b537-a366df4b4cda",
   "metadata": {},
   "outputs": [],
   "source": [
    "import pandas as pd\n",
    "from snakemake.io import expand\n",
    "import yaml\n",
    "from utils import *\n",
    "from sm_utils import *\n",
    "from bc_utils import *"
   ]
  },
  {
   "cell_type": "code",
   "execution_count": 6,
   "id": "00b8270f-5197-452e-a741-a549d149b3af",
   "metadata": {},
   "outputs": [],
   "source": [
    "config_file = '../configs/config.yml'\n",
    "with open(config_file) as f:\n",
    "    config = yaml.safe_load(f)"
   ]
  },
  {
   "cell_type": "markdown",
   "id": "06984b21-472b-45d6-8f23-27656c434320",
   "metadata": {},
   "source": [
    "## 231006 tissue level agg"
   ]
  },
  {
   "cell_type": "code",
   "execution_count": 7,
   "id": "25a25620-acf9-474c-9e27-3dd24cc4f87c",
   "metadata": {},
   "outputs": [],
   "source": [
    "config_tsv = '../configs/test_2.tsv'\n",
    "sample_csv = '../configs/sample_metadata.csv'"
   ]
  },
  {
   "cell_type": "code",
   "execution_count": 17,
   "id": "30493f32-2dc6-417d-9730-525ffbb5a8d2",
   "metadata": {},
   "outputs": [],
   "source": [
    "df = parse_config(config_tsv)\n",
    "sample_df = pd.read_csv(sample_csv)\n",
    "wc = {'tissue': 'PBMC'}"
   ]
  },
  {
   "cell_type": "code",
   "execution_count": 30,
   "id": "426ba7e8-639c-40a4-9959-ae0d808c05f8",
   "metadata": {},
   "outputs": [],
   "source": [
    "def get_tissue_adatas(df, sample_df, wc, cfg_entry):\n",
    "    \n",
    "    # limit to input tissue\n",
    "    temp_sample = sample_df.copy(deep=True)\n",
    "    print(len(temp_sample.index))\n",
    "    temp_sample = temp_sample.loc[temp_sample.Tissue==wc['tissue']]\n",
    "    print(len(temp_sample.index))\n",
    "    \n",
    "    # merge this stuff in with the fastq df\n",
    "    fastq_df = df.copy(deep=True)\n",
    "    temp = fastq_df.merge(sample_df, on='plate', how='inner')\n",
    "    \n",
    "    # get the plate / subpool / sample info for this tissue\n",
    "    plates = temp.plate().tolist()\n",
    "    subpools = temp.subpool.tolist()\n",
    "    samples = temp.tolist()\n"
   ]
  },
  {
   "cell_type": "code",
   "execution_count": 31,
   "id": "260dcbe9-ed5d-4b90-8f30-0d2d176f0347",
   "metadata": {},
   "outputs": [
    {
     "name": "stdout",
     "output_type": "stream",
     "text": [
      "1056\n",
      "96\n",
      "['igvf_013']\n",
      "1\n",
      "['Sublibrary_2', 'Sublibrary_3']\n",
      "2\n",
      "['016_B6J_10F_20', '017_B6J_10M_20', '018_B6J_10F_20', '019_B6J_10M_20', '020_B6J_10F_20', '021_B6J_10M_20', '024_B6J_10F_20', '025_B6J_10M_20', '066_NODJ_10F_20', '067_NODJ_10M_20', '070_NODJ_10F_20', '069_NODJ_10M_20', '072_NODJ_10F_20', '073_NODJ_10M_20', '074_NODJ_10F_20', '075_NODJ_10M_20', '026_AJ_10F_20', '029_AJ_10M_20', '028_AJ_10F_20', '031_AJ_10M_20', '032_AJ_10F_20', '033_AJ_10M_20', '034_AJ_10F_20', '035_AJ_10M_20', '076_PWKJ_10F_20', '077_PWKJ_10M_20', '078_PWKJ_10F_20', '079_PWKJ_10M_20', '080_PWKJ_10F_20', '083_PWKJ_10M_20', '082_PWKJ_10F_20', '085_PWKJ_10M_20', '036_129S1J_10F_20', '037_129S1J_10M_20', '038_129S1J_10F_20', '041_129S1J_10M_20', '040_129S1J_10F_20', '043_129S1J_10M_20', '044_129S1J_10F_20', '045_129S1J_10M_20', '086_CASTJ_10F_20', '087_CASTJ_10M_20', '090_CASTJ_10F_20', '091_CASTJ_10M_20', '092_CASTJ_10F_20', '093_CASTJ_10M_20', '094_CASTJ_10F_20', '095_CASTJ_10M_20', '058_WSBJ_10F_20', '057_WSBJ_10M_20', '060_WSBJ_10F_20', '059_WSBJ_10M_20', '062_WSBJ_10F_20', '061_WSBJ_10M_20', '096_WSBJ_10F_20', '063_WSBJ_10M_20', '046_NZOJ_10F_20', '047_NZOJ_10M_20', '048_NZOJ_10F_20', '049_NZOJ_10M_20', '050_NZOJ_10F_20', '051_NZOJ_10M_20', '052_NZOJ_10F_20', '053_NZOJ_10M_20', '194_B6CASTF1J_10F_20', '193_B6CASTF1J_10M_20', '196_B6CASTF1J_10F_20', '199_B6CASTF1J_10M_20', '202_B6CASTF1J_10F_20', '201_B6CASTF1J_10M_20', '204_B6CASTF1J_10F_20', '203_B6CASTF1J_10M_20', '216_B6PWKF1J_10F_20', '207_B6PWKF1J_10M_20', '218_B6PWKF1J_10F_20', '209_B6PWKF1J_10M_20', '220_B6PWKF1J_10F_20', '211_B6PWKF1J_10M_20', '222_B6PWKF1J_10F_20', '213_B6PWKF1J_10M_20', '224_B6WSBF1J_10F_20', '223_B6WSBF1J_10M_20', '232_B6WSBF1J_10F_20', '225_B6WSBF1J_10M_20', '234_B6WSBF1J_10F_20', '227_B6WSBF1J_10M_20', '236_B6WSBF1J_10F_20', '229_B6WSBF1J_10M_20', '160_B6NODF1J_10F_20', '159_B6NODF1J_10M_20', '164_B6NODF1J_10F_20', '163_B6NODF1J_10M_20', '166_B6NODF1J_10F_20', '165_B6NODF1J_10M_20', '168_B6NODF1J_10F_20', '167_B6NODF1J_10M_20']\n",
      "96\n"
     ]
    }
   ],
   "source": [
    "get_tissue_adatas(df, sample_df, wc, 'test')"
   ]
  },
  {
   "cell_type": "code",
   "execution_count": null,
   "id": "441a3bc1-9572-44f4-b23a-d813c9aa06e2",
   "metadata": {},
   "outputs": [],
   "source": []
  },
  {
   "cell_type": "code",
   "execution_count": null,
   "id": "d6d2e307-2ecd-493c-b26c-4bc1e3a0ade3",
   "metadata": {},
   "outputs": [],
   "source": []
  },
  {
   "cell_type": "code",
   "execution_count": null,
   "id": "3f450780-abe4-4b81-81c2-69fd167f176d",
   "metadata": {},
   "outputs": [],
   "source": []
  },
  {
   "cell_type": "code",
   "execution_count": null,
   "id": "9e966f39-b100-49b8-b726-7db09dda18d0",
   "metadata": {},
   "outputs": [],
   "source": []
  },
  {
   "cell_type": "code",
   "execution_count": null,
   "id": "047bc5e2-20a5-4c92-a9dc-28066bda74e4",
   "metadata": {},
   "outputs": [],
   "source": []
  },
  {
   "cell_type": "code",
   "execution_count": null,
   "id": "7ef6f79f-a389-4cdb-bd02-d4a66eabe774",
   "metadata": {},
   "outputs": [],
   "source": []
  },
  {
   "cell_type": "code",
   "execution_count": null,
   "id": "5af1ee36-641f-45eb-a5ae-170c971b2c2b",
   "metadata": {},
   "outputs": [],
   "source": []
  },
  {
   "cell_type": "code",
   "execution_count": null,
   "id": "43786610-f8ff-49cb-8695-9942d7d197c6",
   "metadata": {},
   "outputs": [],
   "source": []
  },
  {
   "cell_type": "code",
   "execution_count": null,
   "id": "2aa84c2d-42a3-41ed-a18f-1abea81a83d2",
   "metadata": {},
   "outputs": [],
   "source": []
  },
  {
   "cell_type": "code",
   "execution_count": null,
   "id": "35877b31-c814-4389-8852-8496cfe70334",
   "metadata": {},
   "outputs": [],
   "source": []
  },
  {
   "cell_type": "markdown",
   "id": "f7f8f3e1-69c1-40f3-81e1-2e7922bb72c8",
   "metadata": {},
   "source": [
    "## 231006 more bc stuff"
   ]
  },
  {
   "cell_type": "code",
   "execution_count": 7,
   "id": "9d48e5d0-9bd3-4933-a209-494e00af5c8c",
   "metadata": {},
   "outputs": [],
   "source": [
    "kit = 'WT_mega'\n",
    "chemistry = 'v2'\n",
    "bc = 3"
   ]
  },
  {
   "cell_type": "code",
   "execution_count": 8,
   "id": "9ee1ef46-aa20-4e5a-8911-af55019d4b12",
   "metadata": {},
   "outputs": [],
   "source": [
    "df = get_bcs(bc, kit, chemistry)"
   ]
  },
  {
   "cell_type": "code",
   "execution_count": 9,
   "id": "c9cb0cf6-1b7f-49ee-94e9-ec0837fa9a35",
   "metadata": {},
   "outputs": [
    {
     "data": {
      "text/html": [
       "<div>\n",
       "<style scoped>\n",
       "    .dataframe tbody tr th:only-of-type {\n",
       "        vertical-align: middle;\n",
       "    }\n",
       "\n",
       "    .dataframe tbody tr th {\n",
       "        vertical-align: top;\n",
       "    }\n",
       "\n",
       "    .dataframe thead th {\n",
       "        text-align: right;\n",
       "    }\n",
       "</style>\n",
       "<table border=\"1\" class=\"dataframe\">\n",
       "  <thead>\n",
       "    <tr style=\"text-align: right;\">\n",
       "      <th></th>\n",
       "      <th>bc3</th>\n",
       "      <th>well</th>\n",
       "    </tr>\n",
       "  </thead>\n",
       "  <tbody>\n",
       "    <tr>\n",
       "      <th>0</th>\n",
       "      <td>AACGTGAT</td>\n",
       "      <td>A1</td>\n",
       "    </tr>\n",
       "    <tr>\n",
       "      <th>1</th>\n",
       "      <td>AAACATCG</td>\n",
       "      <td>A2</td>\n",
       "    </tr>\n",
       "    <tr>\n",
       "      <th>2</th>\n",
       "      <td>ATGCCTAA</td>\n",
       "      <td>A3</td>\n",
       "    </tr>\n",
       "    <tr>\n",
       "      <th>3</th>\n",
       "      <td>AGTGGTCA</td>\n",
       "      <td>A4</td>\n",
       "    </tr>\n",
       "    <tr>\n",
       "      <th>4</th>\n",
       "      <td>ACCACTGT</td>\n",
       "      <td>A5</td>\n",
       "    </tr>\n",
       "    <tr>\n",
       "      <th>...</th>\n",
       "      <td>...</td>\n",
       "      <td>...</td>\n",
       "    </tr>\n",
       "    <tr>\n",
       "      <th>91</th>\n",
       "      <td>GAACAGGC</td>\n",
       "      <td>H8</td>\n",
       "    </tr>\n",
       "    <tr>\n",
       "      <th>92</th>\n",
       "      <td>GACAGTGC</td>\n",
       "      <td>H9</td>\n",
       "    </tr>\n",
       "    <tr>\n",
       "      <th>93</th>\n",
       "      <td>GAGTTAGC</td>\n",
       "      <td>H10</td>\n",
       "    </tr>\n",
       "    <tr>\n",
       "      <th>94</th>\n",
       "      <td>GATGAATC</td>\n",
       "      <td>H11</td>\n",
       "    </tr>\n",
       "    <tr>\n",
       "      <th>95</th>\n",
       "      <td>GCCAAGAC</td>\n",
       "      <td>H12</td>\n",
       "    </tr>\n",
       "  </tbody>\n",
       "</table>\n",
       "<p>96 rows × 2 columns</p>\n",
       "</div>"
      ],
      "text/plain": [
       "         bc3 well\n",
       "0   AACGTGAT   A1\n",
       "1   AAACATCG   A2\n",
       "2   ATGCCTAA   A3\n",
       "3   AGTGGTCA   A4\n",
       "4   ACCACTGT   A5\n",
       "..       ...  ...\n",
       "91  GAACAGGC   H8\n",
       "92  GACAGTGC   H9\n",
       "93  GAGTTAGC  H10\n",
       "94  GATGAATC  H11\n",
       "95  GCCAAGAC  H12\n",
       "\n",
       "[96 rows x 2 columns]"
      ]
     },
     "execution_count": 9,
     "metadata": {},
     "output_type": "execute_result"
    }
   ],
   "source": [
    "df"
   ]
  },
  {
   "cell_type": "code",
   "execution_count": null,
   "id": "db2e91f4-4a23-4bf8-8296-8ff4ea074692",
   "metadata": {},
   "outputs": [],
   "source": []
  },
  {
   "cell_type": "code",
   "execution_count": null,
   "id": "ad26a70d-597e-4580-b681-adfaf6bf1283",
   "metadata": {},
   "outputs": [],
   "source": []
  },
  {
   "cell_type": "code",
   "execution_count": 3,
   "id": "dda81263-0542-45bd-93ac-776e7eb26cd0",
   "metadata": {},
   "outputs": [],
   "source": [
    "kit = 'WT_mega'\n",
    "chemistry = 'v2'"
   ]
  },
  {
   "cell_type": "code",
   "execution_count": 6,
   "id": "d38d1dbb-82e3-4d0e-aa29-f63d47bbcffd",
   "metadata": {},
   "outputs": [],
   "source": [
    "bc_df = get_bc1_matches(kit, chemistry)"
   ]
  },
  {
   "cell_type": "code",
   "execution_count": 7,
   "id": "91f41866-2413-436b-9c6c-24a1e7e1b09a",
   "metadata": {},
   "outputs": [
    {
     "data": {
      "text/html": [
       "<div>\n",
       "<style scoped>\n",
       "    .dataframe tbody tr th:only-of-type {\n",
       "        vertical-align: middle;\n",
       "    }\n",
       "\n",
       "    .dataframe tbody tr th {\n",
       "        vertical-align: top;\n",
       "    }\n",
       "\n",
       "    .dataframe thead th {\n",
       "        text-align: right;\n",
       "    }\n",
       "</style>\n",
       "<table border=\"1\" class=\"dataframe\">\n",
       "  <thead>\n",
       "    <tr style=\"text-align: right;\">\n",
       "      <th></th>\n",
       "      <th>bc1_dt</th>\n",
       "      <th>well</th>\n",
       "      <th>bc1_randhex</th>\n",
       "    </tr>\n",
       "  </thead>\n",
       "  <tbody>\n",
       "    <tr>\n",
       "      <th>0</th>\n",
       "      <td>CATTCCTA</td>\n",
       "      <td>A1</td>\n",
       "      <td>CATCATCC</td>\n",
       "    </tr>\n",
       "    <tr>\n",
       "      <th>1</th>\n",
       "      <td>CTTCATCA</td>\n",
       "      <td>A2</td>\n",
       "      <td>CTGCTTTG</td>\n",
       "    </tr>\n",
       "    <tr>\n",
       "      <th>2</th>\n",
       "      <td>CCTATATC</td>\n",
       "      <td>A3</td>\n",
       "      <td>CTAAGGGA</td>\n",
       "    </tr>\n",
       "    <tr>\n",
       "      <th>3</th>\n",
       "      <td>ACATTTAC</td>\n",
       "      <td>A4</td>\n",
       "      <td>GCTTATAG</td>\n",
       "    </tr>\n",
       "    <tr>\n",
       "      <th>4</th>\n",
       "      <td>ACTTAGCT</td>\n",
       "      <td>A5</td>\n",
       "      <td>TCTGATCC</td>\n",
       "    </tr>\n",
       "    <tr>\n",
       "      <th>...</th>\n",
       "      <td>...</td>\n",
       "      <td>...</td>\n",
       "      <td>...</td>\n",
       "    </tr>\n",
       "    <tr>\n",
       "      <th>91</th>\n",
       "      <td>ATTAGGCT</td>\n",
       "      <td>H8</td>\n",
       "      <td>GTGTGTGT</td>\n",
       "    </tr>\n",
       "    <tr>\n",
       "      <th>92</th>\n",
       "      <td>GCCTTTCA</td>\n",
       "      <td>H9</td>\n",
       "      <td>TATGCTTC</td>\n",
       "    </tr>\n",
       "    <tr>\n",
       "      <th>93</th>\n",
       "      <td>ATTCTAGG</td>\n",
       "      <td>H10</td>\n",
       "      <td>ATGGTGTT</td>\n",
       "    </tr>\n",
       "    <tr>\n",
       "      <th>94</th>\n",
       "      <td>CCTTACAT</td>\n",
       "      <td>H11</td>\n",
       "      <td>GAATAATG</td>\n",
       "    </tr>\n",
       "    <tr>\n",
       "      <th>95</th>\n",
       "      <td>ACATTTGG</td>\n",
       "      <td>H12</td>\n",
       "      <td>CCTCTGTG</td>\n",
       "    </tr>\n",
       "  </tbody>\n",
       "</table>\n",
       "<p>96 rows × 3 columns</p>\n",
       "</div>"
      ],
      "text/plain": [
       "      bc1_dt well bc1_randhex\n",
       "0   CATTCCTA   A1    CATCATCC\n",
       "1   CTTCATCA   A2    CTGCTTTG\n",
       "2   CCTATATC   A3    CTAAGGGA\n",
       "3   ACATTTAC   A4    GCTTATAG\n",
       "4   ACTTAGCT   A5    TCTGATCC\n",
       "..       ...  ...         ...\n",
       "91  ATTAGGCT   H8    GTGTGTGT\n",
       "92  GCCTTTCA   H9    TATGCTTC\n",
       "93  ATTCTAGG  H10    ATGGTGTT\n",
       "94  CCTTACAT  H11    GAATAATG\n",
       "95  ACATTTGG  H12    CCTCTGTG\n",
       "\n",
       "[96 rows x 3 columns]"
      ]
     },
     "execution_count": 7,
     "metadata": {},
     "output_type": "execute_result"
    }
   ],
   "source": [
    "bc_df"
   ]
  },
  {
   "cell_type": "code",
   "execution_count": null,
   "id": "db732421-8638-45bb-a800-5768ea843bc4",
   "metadata": {},
   "outputs": [],
   "source": []
  },
  {
   "cell_type": "code",
   "execution_count": null,
   "id": "8a613c7f-9821-46c6-b8b4-b0e43210b643",
   "metadata": {},
   "outputs": [],
   "source": []
  },
  {
   "cell_type": "code",
   "execution_count": 68,
   "id": "fa997d1b-fad9-465c-b80c-03919d6b7aa9",
   "metadata": {},
   "outputs": [],
   "source": [
    "fname = '../configs/test_2.tsv'\n",
    "\n",
    "def parse_config(fname):\n",
    "    df = pd.read_csv(fname, sep='\\t')\n",
    "    df['path'] = df.fastq.str.rsplit('/', n=2, expand=True)[0]+'/'\n",
    "    df['path2'] = df.fastq.str.rsplit('/', n=1, expand=True)[0]+'/'\n",
    "    df['r2_fastq'] = df.fastq.str.replace('_R1_', '_R2_')\n",
    "    return df"
   ]
  },
  {
   "cell_type": "code",
   "execution_count": 76,
   "id": "011fa960-f85e-4474-a3ad-f32ef6ada46f",
   "metadata": {},
   "outputs": [],
   "source": [
    "def get_subpool_fastqs(wc, df, how, read=None):\n",
    "    \"\"\"\n",
    "    Get list of fastqs from the same subpool. Can\n",
    "    either return as a Python list of strings or a\n",
    "    formatted string list read to pass to a shell cmd.\n",
    "\n",
    "    Parameters:\n",
    "        how (str): {'str', 'list'}. 'list' will return\n",
    "            Python list of str var. 'str' will return\n",
    "            Python string\n",
    "    \"\"\"\n",
    "    temp = df.copy(deep=True)\n",
    "    temp = temp.loc[(temp.plate==wc['plate'])&\\\n",
    "                    (temp.subpool==wc['subpool'])]\n",
    "\n",
    "    if how == 'list':\n",
    "        reads = [read for i in range(len(temp.index))]\n",
    "        return expand(expand(config['raw']['fastq'],\n",
    "                        zip,\n",
    "                        sample=temp['sample'].tolist(),\n",
    "                        lane=temp['lane'].tolist(),\n",
    "                        allow_missing=True),\n",
    "                        read=read,\n",
    "                        plate=wc['plate'],\n",
    "                        subpool=wc['subpool'])\n",
    "\n",
    "    elif how == 'str':\n",
    "        r1s = expand(expand(config['raw']['fastq'],\n",
    "                        zip,\n",
    "                        sample=temp['sample'].tolist(),\n",
    "                        lane=temp['lane'].tolist(),\n",
    "                        allow_missing=True),\n",
    "                        read='R1',\n",
    "                        plate=wc['plate'],\n",
    "                        subpool=wc['subpool'])\n",
    "        r2s = expand(expand(config['raw']['fastq'],\n",
    "                        zip,\n",
    "                        sample=temp['sample'].tolist(),\n",
    "                        lane=temp['lane'].tolist(),\n",
    "                        allow_missing=True),\n",
    "                        read='R2',\n",
    "                        plate=wc['plate'],\n",
    "                        subpool=wc['subpool'])\n",
    "        fastq_str = ''\n",
    "        for r1, r2 in zip(r1s, r2s):\n",
    "            fastq_str+=f' {r1} {r2}'\n",
    "        return fastq_str"
   ]
  },
  {
   "cell_type": "code",
   "execution_count": 86,
   "id": "98d24c0b-fc44-4162-a9fb-c0fcef62f1c3",
   "metadata": {},
   "outputs": [],
   "source": [
    "def get_df_info(wc, df, col):\n",
    "    temp = df.copy(deep=True)\n",
    "    temp = temp.loc[(temp.plate==wc['plate'])&\\\n",
    "                    (temp.subpool==wc['subpool'])&\\\n",
    "                    (temp['sample']==wc['sample'])&\\\n",
    "                    (temp.lane==wc['lane'])]\n",
    "    assert len(temp.index) == 1\n",
    "    return temp[col].values[0]"
   ]
  },
  {
   "cell_type": "code",
   "execution_count": 87,
   "id": "7b95c82c-3f0a-46bf-9f4e-d63bdcd45910",
   "metadata": {},
   "outputs": [],
   "source": [
    "df = parse_config(fname)\n",
    "wc = {'plate': 'igvf_013', 'subpool': 'Sublibrary_2', 'sample': 'S1', 'lane': 'L001', 'read': 'R1'}"
   ]
  },
  {
   "cell_type": "code",
   "execution_count": 88,
   "id": "886ff73f-858c-4c56-8ddb-d7af26136130",
   "metadata": {},
   "outputs": [
    {
     "data": {
      "text/plain": [
       "'/dfs7/samlab/seyedam/IGVF/igvf_013/nova1/Sublibrary_2_S1_L001_R2_001.fastq.gz'"
      ]
     },
     "execution_count": 88,
     "metadata": {},
     "output_type": "execute_result"
    }
   ],
   "source": [
    "get_df_info(wc, df, 'r2_fastq')"
   ]
  },
  {
   "cell_type": "code",
   "execution_count": 78,
   "id": "8634714e-15e1-451f-816c-dac8c1837556",
   "metadata": {},
   "outputs": [
    {
     "name": "stdout",
     "output_type": "stream",
     "text": [
      "['S1', 'S1', 'S1', 'S1']\n",
      "['L001', 'L002', 'L003', 'L004']\n",
      "R2\n",
      "igvf_013\n",
      "Sublibrary_2\n"
     ]
    },
    {
     "data": {
      "text/plain": [
       "['fastq/igvf_013_Sublibrary_2_S1_L001_R2_001.fastq.gz',\n",
       " 'fastq/igvf_013_Sublibrary_2_S1_L002_R2_001.fastq.gz',\n",
       " 'fastq/igvf_013_Sublibrary_2_S1_L003_R2_001.fastq.gz',\n",
       " 'fastq/igvf_013_Sublibrary_2_S1_L004_R2_001.fastq.gz']"
      ]
     },
     "execution_count": 78,
     "metadata": {},
     "output_type": "execute_result"
    }
   ],
   "source": [
    "get_subpool_fastqs(wc, df, 'list', read='R2')"
   ]
  },
  {
   "cell_type": "code",
   "execution_count": 79,
   "id": "44942758-cd04-4d72-9a6a-9ebc1207bfe8",
   "metadata": {},
   "outputs": [
    {
     "name": "stdout",
     "output_type": "stream",
     "text": [
      "['S1', 'S1', 'S1', 'S1']\n",
      "['L001', 'L002', 'L003', 'L004']\n",
      "None\n",
      "igvf_013\n",
      "Sublibrary_2\n"
     ]
    },
    {
     "data": {
      "text/plain": [
       "' fastq/igvf_013_Sublibrary_2_S1_L001_R1_001.fastq.gz fastq/igvf_013_Sublibrary_2_S1_L001_R2_001.fastq.gz fastq/igvf_013_Sublibrary_2_S1_L002_R1_001.fastq.gz fastq/igvf_013_Sublibrary_2_S1_L002_R2_001.fastq.gz fastq/igvf_013_Sublibrary_2_S1_L003_R1_001.fastq.gz fastq/igvf_013_Sublibrary_2_S1_L003_R2_001.fastq.gz fastq/igvf_013_Sublibrary_2_S1_L004_R1_001.fastq.gz fastq/igvf_013_Sublibrary_2_S1_L004_R2_001.fastq.gz'"
      ]
     },
     "execution_count": 79,
     "metadata": {},
     "output_type": "execute_result"
    }
   ],
   "source": [
    "get_subpool_fastqs(wc, df, 'str')"
   ]
  },
  {
   "cell_type": "code",
   "execution_count": 23,
   "id": "55e480d4-f109-4805-b0b6-7151049360cd",
   "metadata": {},
   "outputs": [
    {
     "data": {
      "text/plain": [
       "['/dfs7/samlab/seyedam/IGVF/igvf_005/nova1/Sublibrary_2_S1_L001_R2_001.fastq.gz',\n",
       " '/dfs7/samlab/seyedam/IGVF/igvf_005/nova1/Sublibrary_2_S1_L002_R2_001.fastq.gz']"
      ]
     },
     "execution_count": 23,
     "metadata": {},
     "output_type": "execute_result"
    }
   ],
   "source": [
    "df.r2_fastq.tolist()[:2]"
   ]
  },
  {
   "cell_type": "code",
   "execution_count": null,
   "id": "1574aa71-47e8-44bf-be8c-0b9a53d42fbd",
   "metadata": {},
   "outputs": [],
   "source": []
  }
 ],
 "metadata": {
  "kernelspec": {
   "display_name": "Python 3",
   "language": "python",
   "name": "python3"
  },
  "language_info": {
   "codemirror_mode": {
    "name": "ipython",
    "version": 3
   },
   "file_extension": ".py",
   "mimetype": "text/x-python",
   "name": "python",
   "nbconvert_exporter": "python",
   "pygments_lexer": "ipython3",
   "version": "3.7.12"
  }
 },
 "nbformat": 4,
 "nbformat_minor": 5
}
