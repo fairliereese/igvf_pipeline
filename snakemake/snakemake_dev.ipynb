{
 "cells": [
  {
   "cell_type": "code",
   "execution_count": 8,
   "id": "8062d3fa-d2d8-459e-b537-a366df4b4cda",
   "metadata": {},
   "outputs": [],
   "source": [
    "import pandas as pd"
   ]
  },
  {
   "cell_type": "code",
   "execution_count": 27,
   "id": "fa997d1b-fad9-465c-b80c-03919d6b7aa9",
   "metadata": {},
   "outputs": [],
   "source": [
    "fname = '../configs/test.tsv'\n",
    "\n",
    "def parse_config(fname):\n",
    "    df = pd.read_csv(fname, sep='\\t')\n",
    "    df['path'] = df.fastq.str.rsplit('/', n=2, expand=True)[0]+'/'\n",
    "    df['path2'] = df.fastq.str.rsplit('/', n=1, expand=True)[0]+'/'\n",
    "    df['r2_fastq'] = df.fastq.str.replace('_R1_', '_R2_')\n",
    "    return df"
   ]
  },
  {
   "cell_type": "code",
   "execution_count": 28,
   "id": "7b95c82c-3f0a-46bf-9f4e-d63bdcd45910",
   "metadata": {},
   "outputs": [],
   "source": [
    "df = parse_config(fname)"
   ]
  },
  {
   "cell_type": "code",
   "execution_count": 29,
   "id": "011fa960-f85e-4474-a3ad-f32ef6ada46f",
   "metadata": {},
   "outputs": [
    {
     "data": {
      "text/html": [
       "<div>\n",
       "<style scoped>\n",
       "    .dataframe tbody tr th:only-of-type {\n",
       "        vertical-align: middle;\n",
       "    }\n",
       "\n",
       "    .dataframe tbody tr th {\n",
       "        vertical-align: top;\n",
       "    }\n",
       "\n",
       "    .dataframe thead th {\n",
       "        text-align: right;\n",
       "    }\n",
       "</style>\n",
       "<table border=\"1\" class=\"dataframe\">\n",
       "  <thead>\n",
       "    <tr style=\"text-align: right;\">\n",
       "      <th></th>\n",
       "      <th>fastq</th>\n",
       "      <th>subpool</th>\n",
       "      <th>sample</th>\n",
       "      <th>path</th>\n",
       "      <th>path2</th>\n",
       "      <th>r2_fastq</th>\n",
       "    </tr>\n",
       "  </thead>\n",
       "  <tbody>\n",
       "    <tr>\n",
       "      <th>0</th>\n",
       "      <td>/dfs7/samlab/seyedam/IGVF/igvf_005/nova1/Subli...</td>\n",
       "      <td>sub2</td>\n",
       "      <td>S1</td>\n",
       "      <td>/dfs7/samlab/seyedam/IGVF/igvf_005</td>\n",
       "      <td>/dfs7/samlab/seyedam/IGVF/igvf_005/nova1</td>\n",
       "      <td>/dfs7/samlab/seyedam/IGVF/igvf_005/nova1/Subli...</td>\n",
       "    </tr>\n",
       "    <tr>\n",
       "      <th>1</th>\n",
       "      <td>/dfs7/samlab/seyedam/IGVF/igvf_005/nova1/Subli...</td>\n",
       "      <td>sub2</td>\n",
       "      <td>S1</td>\n",
       "      <td>/dfs7/samlab/seyedam/IGVF/igvf_005</td>\n",
       "      <td>/dfs7/samlab/seyedam/IGVF/igvf_005/nova1</td>\n",
       "      <td>/dfs7/samlab/seyedam/IGVF/igvf_005/nova1/Subli...</td>\n",
       "    </tr>\n",
       "    <tr>\n",
       "      <th>2</th>\n",
       "      <td>/dfs7/samlab/seyedam/IGVF/igvf_005/nova1/Subli...</td>\n",
       "      <td>sub2</td>\n",
       "      <td>S1</td>\n",
       "      <td>/dfs7/samlab/seyedam/IGVF/igvf_005</td>\n",
       "      <td>/dfs7/samlab/seyedam/IGVF/igvf_005/nova1</td>\n",
       "      <td>/dfs7/samlab/seyedam/IGVF/igvf_005/nova1/Subli...</td>\n",
       "    </tr>\n",
       "    <tr>\n",
       "      <th>3</th>\n",
       "      <td>/dfs7/samlab/seyedam/IGVF/igvf_005/nova1/Subli...</td>\n",
       "      <td>sub2</td>\n",
       "      <td>S1</td>\n",
       "      <td>/dfs7/samlab/seyedam/IGVF/igvf_005</td>\n",
       "      <td>/dfs7/samlab/seyedam/IGVF/igvf_005/nova1</td>\n",
       "      <td>/dfs7/samlab/seyedam/IGVF/igvf_005/nova1/Subli...</td>\n",
       "    </tr>\n",
       "    <tr>\n",
       "      <th>4</th>\n",
       "      <td>/dfs7/samlab/seyedam/IGVF/igvf_005/nova2/Subli...</td>\n",
       "      <td>sub2</td>\n",
       "      <td>S1</td>\n",
       "      <td>/dfs7/samlab/seyedam/IGVF/igvf_005</td>\n",
       "      <td>/dfs7/samlab/seyedam/IGVF/igvf_005/nova2</td>\n",
       "      <td>/dfs7/samlab/seyedam/IGVF/igvf_005/nova2/Subli...</td>\n",
       "    </tr>\n",
       "    <tr>\n",
       "      <th>...</th>\n",
       "      <td>...</td>\n",
       "      <td>...</td>\n",
       "      <td>...</td>\n",
       "      <td>...</td>\n",
       "      <td>...</td>\n",
       "      <td>...</td>\n",
       "    </tr>\n",
       "    <tr>\n",
       "      <th>115</th>\n",
       "      <td>/dfs7/samlab/seyedam/IGVF/igvf_005/nova1/Subli...</td>\n",
       "      <td>sub16</td>\n",
       "      <td>S15</td>\n",
       "      <td>/dfs7/samlab/seyedam/IGVF/igvf_005</td>\n",
       "      <td>/dfs7/samlab/seyedam/IGVF/igvf_005/nova1</td>\n",
       "      <td>/dfs7/samlab/seyedam/IGVF/igvf_005/nova1/Subli...</td>\n",
       "    </tr>\n",
       "    <tr>\n",
       "      <th>116</th>\n",
       "      <td>/dfs7/samlab/seyedam/IGVF/igvf_005/nova2/Subli...</td>\n",
       "      <td>sub16</td>\n",
       "      <td>S15</td>\n",
       "      <td>/dfs7/samlab/seyedam/IGVF/igvf_005</td>\n",
       "      <td>/dfs7/samlab/seyedam/IGVF/igvf_005/nova2</td>\n",
       "      <td>/dfs7/samlab/seyedam/IGVF/igvf_005/nova2/Subli...</td>\n",
       "    </tr>\n",
       "    <tr>\n",
       "      <th>117</th>\n",
       "      <td>/dfs7/samlab/seyedam/IGVF/igvf_005/nova2/Subli...</td>\n",
       "      <td>sub16</td>\n",
       "      <td>S15</td>\n",
       "      <td>/dfs7/samlab/seyedam/IGVF/igvf_005</td>\n",
       "      <td>/dfs7/samlab/seyedam/IGVF/igvf_005/nova2</td>\n",
       "      <td>/dfs7/samlab/seyedam/IGVF/igvf_005/nova2/Subli...</td>\n",
       "    </tr>\n",
       "    <tr>\n",
       "      <th>118</th>\n",
       "      <td>/dfs7/samlab/seyedam/IGVF/igvf_005/nova2/Subli...</td>\n",
       "      <td>sub16</td>\n",
       "      <td>S15</td>\n",
       "      <td>/dfs7/samlab/seyedam/IGVF/igvf_005</td>\n",
       "      <td>/dfs7/samlab/seyedam/IGVF/igvf_005/nova2</td>\n",
       "      <td>/dfs7/samlab/seyedam/IGVF/igvf_005/nova2/Subli...</td>\n",
       "    </tr>\n",
       "    <tr>\n",
       "      <th>119</th>\n",
       "      <td>/dfs7/samlab/seyedam/IGVF/igvf_005/nova2/Subli...</td>\n",
       "      <td>sub16</td>\n",
       "      <td>S15</td>\n",
       "      <td>/dfs7/samlab/seyedam/IGVF/igvf_005</td>\n",
       "      <td>/dfs7/samlab/seyedam/IGVF/igvf_005/nova2</td>\n",
       "      <td>/dfs7/samlab/seyedam/IGVF/igvf_005/nova2/Subli...</td>\n",
       "    </tr>\n",
       "  </tbody>\n",
       "</table>\n",
       "<p>120 rows × 6 columns</p>\n",
       "</div>"
      ],
      "text/plain": [
       "                                                 fastq subpool sample  \\\n",
       "0    /dfs7/samlab/seyedam/IGVF/igvf_005/nova1/Subli...    sub2     S1   \n",
       "1    /dfs7/samlab/seyedam/IGVF/igvf_005/nova1/Subli...    sub2     S1   \n",
       "2    /dfs7/samlab/seyedam/IGVF/igvf_005/nova1/Subli...    sub2     S1   \n",
       "3    /dfs7/samlab/seyedam/IGVF/igvf_005/nova1/Subli...    sub2     S1   \n",
       "4    /dfs7/samlab/seyedam/IGVF/igvf_005/nova2/Subli...    sub2     S1   \n",
       "..                                                 ...     ...    ...   \n",
       "115  /dfs7/samlab/seyedam/IGVF/igvf_005/nova1/Subli...   sub16    S15   \n",
       "116  /dfs7/samlab/seyedam/IGVF/igvf_005/nova2/Subli...   sub16    S15   \n",
       "117  /dfs7/samlab/seyedam/IGVF/igvf_005/nova2/Subli...   sub16    S15   \n",
       "118  /dfs7/samlab/seyedam/IGVF/igvf_005/nova2/Subli...   sub16    S15   \n",
       "119  /dfs7/samlab/seyedam/IGVF/igvf_005/nova2/Subli...   sub16    S15   \n",
       "\n",
       "                                   path  \\\n",
       "0    /dfs7/samlab/seyedam/IGVF/igvf_005   \n",
       "1    /dfs7/samlab/seyedam/IGVF/igvf_005   \n",
       "2    /dfs7/samlab/seyedam/IGVF/igvf_005   \n",
       "3    /dfs7/samlab/seyedam/IGVF/igvf_005   \n",
       "4    /dfs7/samlab/seyedam/IGVF/igvf_005   \n",
       "..                                  ...   \n",
       "115  /dfs7/samlab/seyedam/IGVF/igvf_005   \n",
       "116  /dfs7/samlab/seyedam/IGVF/igvf_005   \n",
       "117  /dfs7/samlab/seyedam/IGVF/igvf_005   \n",
       "118  /dfs7/samlab/seyedam/IGVF/igvf_005   \n",
       "119  /dfs7/samlab/seyedam/IGVF/igvf_005   \n",
       "\n",
       "                                        path2  \\\n",
       "0    /dfs7/samlab/seyedam/IGVF/igvf_005/nova1   \n",
       "1    /dfs7/samlab/seyedam/IGVF/igvf_005/nova1   \n",
       "2    /dfs7/samlab/seyedam/IGVF/igvf_005/nova1   \n",
       "3    /dfs7/samlab/seyedam/IGVF/igvf_005/nova1   \n",
       "4    /dfs7/samlab/seyedam/IGVF/igvf_005/nova2   \n",
       "..                                        ...   \n",
       "115  /dfs7/samlab/seyedam/IGVF/igvf_005/nova1   \n",
       "116  /dfs7/samlab/seyedam/IGVF/igvf_005/nova2   \n",
       "117  /dfs7/samlab/seyedam/IGVF/igvf_005/nova2   \n",
       "118  /dfs7/samlab/seyedam/IGVF/igvf_005/nova2   \n",
       "119  /dfs7/samlab/seyedam/IGVF/igvf_005/nova2   \n",
       "\n",
       "                                              r2_fastq  \n",
       "0    /dfs7/samlab/seyedam/IGVF/igvf_005/nova1/Subli...  \n",
       "1    /dfs7/samlab/seyedam/IGVF/igvf_005/nova1/Subli...  \n",
       "2    /dfs7/samlab/seyedam/IGVF/igvf_005/nova1/Subli...  \n",
       "3    /dfs7/samlab/seyedam/IGVF/igvf_005/nova1/Subli...  \n",
       "4    /dfs7/samlab/seyedam/IGVF/igvf_005/nova2/Subli...  \n",
       "..                                                 ...  \n",
       "115  /dfs7/samlab/seyedam/IGVF/igvf_005/nova1/Subli...  \n",
       "116  /dfs7/samlab/seyedam/IGVF/igvf_005/nova2/Subli...  \n",
       "117  /dfs7/samlab/seyedam/IGVF/igvf_005/nova2/Subli...  \n",
       "118  /dfs7/samlab/seyedam/IGVF/igvf_005/nova2/Subli...  \n",
       "119  /dfs7/samlab/seyedam/IGVF/igvf_005/nova2/Subli...  \n",
       "\n",
       "[120 rows x 6 columns]"
      ]
     },
     "execution_count": 29,
     "metadata": {},
     "output_type": "execute_result"
    }
   ],
   "source": [
    "df"
   ]
  },
  {
   "cell_type": "code",
   "execution_count": 22,
   "id": "8634714e-15e1-451f-816c-dac8c1837556",
   "metadata": {},
   "outputs": [
    {
     "data": {
      "text/plain": [
       "['/dfs7/samlab/seyedam/IGVF/igvf_005/nova1/Sublibrary_2_S1_L001_R1_001.fastq.gz',\n",
       " '/dfs7/samlab/seyedam/IGVF/igvf_005/nova1/Sublibrary_2_S1_L002_R1_001.fastq.gz']"
      ]
     },
     "execution_count": 22,
     "metadata": {},
     "output_type": "execute_result"
    }
   ],
   "source": [
    "df.fastq.tolist()[:2]"
   ]
  },
  {
   "cell_type": "code",
   "execution_count": 23,
   "id": "55e480d4-f109-4805-b0b6-7151049360cd",
   "metadata": {},
   "outputs": [
    {
     "data": {
      "text/plain": [
       "['/dfs7/samlab/seyedam/IGVF/igvf_005/nova1/Sublibrary_2_S1_L001_R2_001.fastq.gz',\n",
       " '/dfs7/samlab/seyedam/IGVF/igvf_005/nova1/Sublibrary_2_S1_L002_R2_001.fastq.gz']"
      ]
     },
     "execution_count": 23,
     "metadata": {},
     "output_type": "execute_result"
    }
   ],
   "source": [
    "df.r2_fastq.tolist()[:2]"
   ]
  },
  {
   "cell_type": "code",
   "execution_count": null,
   "id": "1574aa71-47e8-44bf-be8c-0b9a53d42fbd",
   "metadata": {},
   "outputs": [],
   "source": []
  }
 ],
 "metadata": {
  "kernelspec": {
   "display_name": "Python 3",
   "language": "python",
   "name": "python3"
  },
  "language_info": {
   "codemirror_mode": {
    "name": "ipython",
    "version": 3
   },
   "file_extension": ".py",
   "mimetype": "text/x-python",
   "name": "python",
   "nbconvert_exporter": "python",
   "pygments_lexer": "ipython3",
   "version": "3.7.12"
  }
 },
 "nbformat": 4,
 "nbformat_minor": 5
}
