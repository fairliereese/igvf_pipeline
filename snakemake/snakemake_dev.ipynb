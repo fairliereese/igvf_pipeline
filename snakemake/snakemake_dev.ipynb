{
 "cells": [
  {
   "cell_type": "code",
   "execution_count": 1,
   "id": "8062d3fa-d2d8-459e-b537-a366df4b4cda",
   "metadata": {},
   "outputs": [],
   "source": [
    "import pandas as pd\n",
    "from snakemake.io import expand\n",
    "import yaml\n",
    "from bc_utils import *"
   ]
  },
  {
   "cell_type": "code",
   "execution_count": 2,
   "id": "00b8270f-5197-452e-a741-a549d149b3af",
   "metadata": {},
   "outputs": [],
   "source": [
    "config_file = '../configs/config.yml'\n",
    "with open(config_file) as f:\n",
    "    config = yaml.safe_load(f)"
   ]
  },
  {
   "cell_type": "markdown",
   "id": "f7f8f3e1-69c1-40f3-81e1-2e7922bb72c8",
   "metadata": {},
   "source": [
    "## 231006 more bc stuff"
   ]
  },
  {
   "cell_type": "code",
   "execution_count": 7,
   "id": "9d48e5d0-9bd3-4933-a209-494e00af5c8c",
   "metadata": {},
   "outputs": [],
   "source": [
    "kit = 'WT_mega'\n",
    "chemistry = 'v2'\n",
    "bc = 3"
   ]
  },
  {
   "cell_type": "code",
   "execution_count": 8,
   "id": "9ee1ef46-aa20-4e5a-8911-af55019d4b12",
   "metadata": {},
   "outputs": [],
   "source": [
    "df = get_bcs(bc, kit, chemistry)"
   ]
  },
  {
   "cell_type": "code",
   "execution_count": 9,
   "id": "c9cb0cf6-1b7f-49ee-94e9-ec0837fa9a35",
   "metadata": {},
   "outputs": [
    {
     "data": {
      "text/html": [
       "<div>\n",
       "<style scoped>\n",
       "    .dataframe tbody tr th:only-of-type {\n",
       "        vertical-align: middle;\n",
       "    }\n",
       "\n",
       "    .dataframe tbody tr th {\n",
       "        vertical-align: top;\n",
       "    }\n",
       "\n",
       "    .dataframe thead th {\n",
       "        text-align: right;\n",
       "    }\n",
       "</style>\n",
       "<table border=\"1\" class=\"dataframe\">\n",
       "  <thead>\n",
       "    <tr style=\"text-align: right;\">\n",
       "      <th></th>\n",
       "      <th>bc3</th>\n",
       "      <th>well</th>\n",
       "    </tr>\n",
       "  </thead>\n",
       "  <tbody>\n",
       "    <tr>\n",
       "      <th>0</th>\n",
       "      <td>AACGTGAT</td>\n",
       "      <td>A1</td>\n",
       "    </tr>\n",
       "    <tr>\n",
       "      <th>1</th>\n",
       "      <td>AAACATCG</td>\n",
       "      <td>A2</td>\n",
       "    </tr>\n",
       "    <tr>\n",
       "      <th>2</th>\n",
       "      <td>ATGCCTAA</td>\n",
       "      <td>A3</td>\n",
       "    </tr>\n",
       "    <tr>\n",
       "      <th>3</th>\n",
       "      <td>AGTGGTCA</td>\n",
       "      <td>A4</td>\n",
       "    </tr>\n",
       "    <tr>\n",
       "      <th>4</th>\n",
       "      <td>ACCACTGT</td>\n",
       "      <td>A5</td>\n",
       "    </tr>\n",
       "    <tr>\n",
       "      <th>...</th>\n",
       "      <td>...</td>\n",
       "      <td>...</td>\n",
       "    </tr>\n",
       "    <tr>\n",
       "      <th>91</th>\n",
       "      <td>GAACAGGC</td>\n",
       "      <td>H8</td>\n",
       "    </tr>\n",
       "    <tr>\n",
       "      <th>92</th>\n",
       "      <td>GACAGTGC</td>\n",
       "      <td>H9</td>\n",
       "    </tr>\n",
       "    <tr>\n",
       "      <th>93</th>\n",
       "      <td>GAGTTAGC</td>\n",
       "      <td>H10</td>\n",
       "    </tr>\n",
       "    <tr>\n",
       "      <th>94</th>\n",
       "      <td>GATGAATC</td>\n",
       "      <td>H11</td>\n",
       "    </tr>\n",
       "    <tr>\n",
       "      <th>95</th>\n",
       "      <td>GCCAAGAC</td>\n",
       "      <td>H12</td>\n",
       "    </tr>\n",
       "  </tbody>\n",
       "</table>\n",
       "<p>96 rows × 2 columns</p>\n",
       "</div>"
      ],
      "text/plain": [
       "         bc3 well\n",
       "0   AACGTGAT   A1\n",
       "1   AAACATCG   A2\n",
       "2   ATGCCTAA   A3\n",
       "3   AGTGGTCA   A4\n",
       "4   ACCACTGT   A5\n",
       "..       ...  ...\n",
       "91  GAACAGGC   H8\n",
       "92  GACAGTGC   H9\n",
       "93  GAGTTAGC  H10\n",
       "94  GATGAATC  H11\n",
       "95  GCCAAGAC  H12\n",
       "\n",
       "[96 rows x 2 columns]"
      ]
     },
     "execution_count": 9,
     "metadata": {},
     "output_type": "execute_result"
    }
   ],
   "source": [
    "df"
   ]
  },
  {
   "cell_type": "code",
   "execution_count": null,
   "id": "db2e91f4-4a23-4bf8-8296-8ff4ea074692",
   "metadata": {},
   "outputs": [],
   "source": []
  },
  {
   "cell_type": "code",
   "execution_count": null,
   "id": "ad26a70d-597e-4580-b681-adfaf6bf1283",
   "metadata": {},
   "outputs": [],
   "source": []
  },
  {
   "cell_type": "code",
   "execution_count": 3,
   "id": "dda81263-0542-45bd-93ac-776e7eb26cd0",
   "metadata": {},
   "outputs": [],
   "source": [
    "kit = 'WT_mega'\n",
    "chemistry = 'v2'"
   ]
  },
  {
   "cell_type": "code",
   "execution_count": 6,
   "id": "d38d1dbb-82e3-4d0e-aa29-f63d47bbcffd",
   "metadata": {},
   "outputs": [],
   "source": [
    "bc_df = get_bc1_matches(kit, chemistry)"
   ]
  },
  {
   "cell_type": "code",
   "execution_count": 7,
   "id": "91f41866-2413-436b-9c6c-24a1e7e1b09a",
   "metadata": {},
   "outputs": [
    {
     "data": {
      "text/html": [
       "<div>\n",
       "<style scoped>\n",
       "    .dataframe tbody tr th:only-of-type {\n",
       "        vertical-align: middle;\n",
       "    }\n",
       "\n",
       "    .dataframe tbody tr th {\n",
       "        vertical-align: top;\n",
       "    }\n",
       "\n",
       "    .dataframe thead th {\n",
       "        text-align: right;\n",
       "    }\n",
       "</style>\n",
       "<table border=\"1\" class=\"dataframe\">\n",
       "  <thead>\n",
       "    <tr style=\"text-align: right;\">\n",
       "      <th></th>\n",
       "      <th>bc1_dt</th>\n",
       "      <th>well</th>\n",
       "      <th>bc1_randhex</th>\n",
       "    </tr>\n",
       "  </thead>\n",
       "  <tbody>\n",
       "    <tr>\n",
       "      <th>0</th>\n",
       "      <td>CATTCCTA</td>\n",
       "      <td>A1</td>\n",
       "      <td>CATCATCC</td>\n",
       "    </tr>\n",
       "    <tr>\n",
       "      <th>1</th>\n",
       "      <td>CTTCATCA</td>\n",
       "      <td>A2</td>\n",
       "      <td>CTGCTTTG</td>\n",
       "    </tr>\n",
       "    <tr>\n",
       "      <th>2</th>\n",
       "      <td>CCTATATC</td>\n",
       "      <td>A3</td>\n",
       "      <td>CTAAGGGA</td>\n",
       "    </tr>\n",
       "    <tr>\n",
       "      <th>3</th>\n",
       "      <td>ACATTTAC</td>\n",
       "      <td>A4</td>\n",
       "      <td>GCTTATAG</td>\n",
       "    </tr>\n",
       "    <tr>\n",
       "      <th>4</th>\n",
       "      <td>ACTTAGCT</td>\n",
       "      <td>A5</td>\n",
       "      <td>TCTGATCC</td>\n",
       "    </tr>\n",
       "    <tr>\n",
       "      <th>...</th>\n",
       "      <td>...</td>\n",
       "      <td>...</td>\n",
       "      <td>...</td>\n",
       "    </tr>\n",
       "    <tr>\n",
       "      <th>91</th>\n",
       "      <td>ATTAGGCT</td>\n",
       "      <td>H8</td>\n",
       "      <td>GTGTGTGT</td>\n",
       "    </tr>\n",
       "    <tr>\n",
       "      <th>92</th>\n",
       "      <td>GCCTTTCA</td>\n",
       "      <td>H9</td>\n",
       "      <td>TATGCTTC</td>\n",
       "    </tr>\n",
       "    <tr>\n",
       "      <th>93</th>\n",
       "      <td>ATTCTAGG</td>\n",
       "      <td>H10</td>\n",
       "      <td>ATGGTGTT</td>\n",
       "    </tr>\n",
       "    <tr>\n",
       "      <th>94</th>\n",
       "      <td>CCTTACAT</td>\n",
       "      <td>H11</td>\n",
       "      <td>GAATAATG</td>\n",
       "    </tr>\n",
       "    <tr>\n",
       "      <th>95</th>\n",
       "      <td>ACATTTGG</td>\n",
       "      <td>H12</td>\n",
       "      <td>CCTCTGTG</td>\n",
       "    </tr>\n",
       "  </tbody>\n",
       "</table>\n",
       "<p>96 rows × 3 columns</p>\n",
       "</div>"
      ],
      "text/plain": [
       "      bc1_dt well bc1_randhex\n",
       "0   CATTCCTA   A1    CATCATCC\n",
       "1   CTTCATCA   A2    CTGCTTTG\n",
       "2   CCTATATC   A3    CTAAGGGA\n",
       "3   ACATTTAC   A4    GCTTATAG\n",
       "4   ACTTAGCT   A5    TCTGATCC\n",
       "..       ...  ...         ...\n",
       "91  ATTAGGCT   H8    GTGTGTGT\n",
       "92  GCCTTTCA   H9    TATGCTTC\n",
       "93  ATTCTAGG  H10    ATGGTGTT\n",
       "94  CCTTACAT  H11    GAATAATG\n",
       "95  ACATTTGG  H12    CCTCTGTG\n",
       "\n",
       "[96 rows x 3 columns]"
      ]
     },
     "execution_count": 7,
     "metadata": {},
     "output_type": "execute_result"
    }
   ],
   "source": [
    "bc_df"
   ]
  },
  {
   "cell_type": "code",
   "execution_count": null,
   "id": "db732421-8638-45bb-a800-5768ea843bc4",
   "metadata": {},
   "outputs": [],
   "source": []
  },
  {
   "cell_type": "code",
   "execution_count": null,
   "id": "8a613c7f-9821-46c6-b8b4-b0e43210b643",
   "metadata": {},
   "outputs": [],
   "source": []
  },
  {
   "cell_type": "code",
   "execution_count": 68,
   "id": "fa997d1b-fad9-465c-b80c-03919d6b7aa9",
   "metadata": {},
   "outputs": [],
   "source": [
    "fname = '../configs/test_2.tsv'\n",
    "\n",
    "def parse_config(fname):\n",
    "    df = pd.read_csv(fname, sep='\\t')\n",
    "    df['path'] = df.fastq.str.rsplit('/', n=2, expand=True)[0]+'/'\n",
    "    df['path2'] = df.fastq.str.rsplit('/', n=1, expand=True)[0]+'/'\n",
    "    df['r2_fastq'] = df.fastq.str.replace('_R1_', '_R2_')\n",
    "    return df"
   ]
  },
  {
   "cell_type": "code",
   "execution_count": 76,
   "id": "011fa960-f85e-4474-a3ad-f32ef6ada46f",
   "metadata": {},
   "outputs": [],
   "source": [
    "def get_subpool_fastqs(wc, df, how, read=None):\n",
    "    \"\"\"\n",
    "    Get list of fastqs from the same subpool. Can\n",
    "    either return as a Python list of strings or a\n",
    "    formatted string list read to pass to a shell cmd.\n",
    "\n",
    "    Parameters:\n",
    "        how (str): {'str', 'list'}. 'list' will return\n",
    "            Python list of str var. 'str' will return\n",
    "            Python string\n",
    "    \"\"\"\n",
    "    temp = df.copy(deep=True)\n",
    "    temp = temp.loc[(temp.plate==wc['plate'])&\\\n",
    "                    (temp.subpool==wc['subpool'])]\n",
    "\n",
    "    if how == 'list':\n",
    "        reads = [read for i in range(len(temp.index))]\n",
    "        return expand(expand(config['raw']['fastq'],\n",
    "                        zip,\n",
    "                        sample=temp['sample'].tolist(),\n",
    "                        lane=temp['lane'].tolist(),\n",
    "                        allow_missing=True),\n",
    "                        read=read,\n",
    "                        plate=wc['plate'],\n",
    "                        subpool=wc['subpool'])\n",
    "\n",
    "    elif how == 'str':\n",
    "        r1s = expand(expand(config['raw']['fastq'],\n",
    "                        zip,\n",
    "                        sample=temp['sample'].tolist(),\n",
    "                        lane=temp['lane'].tolist(),\n",
    "                        allow_missing=True),\n",
    "                        read='R1',\n",
    "                        plate=wc['plate'],\n",
    "                        subpool=wc['subpool'])\n",
    "        r2s = expand(expand(config['raw']['fastq'],\n",
    "                        zip,\n",
    "                        sample=temp['sample'].tolist(),\n",
    "                        lane=temp['lane'].tolist(),\n",
    "                        allow_missing=True),\n",
    "                        read='R2',\n",
    "                        plate=wc['plate'],\n",
    "                        subpool=wc['subpool'])\n",
    "        fastq_str = ''\n",
    "        for r1, r2 in zip(r1s, r2s):\n",
    "            fastq_str+=f' {r1} {r2}'\n",
    "        return fastq_str"
   ]
  },
  {
   "cell_type": "code",
   "execution_count": 86,
   "id": "98d24c0b-fc44-4162-a9fb-c0fcef62f1c3",
   "metadata": {},
   "outputs": [],
   "source": [
    "def get_df_info(wc, df, col):\n",
    "    temp = df.copy(deep=True)\n",
    "    temp = temp.loc[(temp.plate==wc['plate'])&\\\n",
    "                    (temp.subpool==wc['subpool'])&\\\n",
    "                    (temp['sample']==wc['sample'])&\\\n",
    "                    (temp.lane==wc['lane'])]\n",
    "    assert len(temp.index) == 1\n",
    "    return temp[col].values[0]"
   ]
  },
  {
   "cell_type": "code",
   "execution_count": 87,
   "id": "7b95c82c-3f0a-46bf-9f4e-d63bdcd45910",
   "metadata": {},
   "outputs": [],
   "source": [
    "df = parse_config(fname)\n",
    "wc = {'plate': 'igvf_013', 'subpool': 'Sublibrary_2', 'sample': 'S1', 'lane': 'L001', 'read': 'R1'}"
   ]
  },
  {
   "cell_type": "code",
   "execution_count": 88,
   "id": "886ff73f-858c-4c56-8ddb-d7af26136130",
   "metadata": {},
   "outputs": [
    {
     "data": {
      "text/plain": [
       "'/dfs7/samlab/seyedam/IGVF/igvf_013/nova1/Sublibrary_2_S1_L001_R2_001.fastq.gz'"
      ]
     },
     "execution_count": 88,
     "metadata": {},
     "output_type": "execute_result"
    }
   ],
   "source": [
    "get_df_info(wc, df, 'r2_fastq')"
   ]
  },
  {
   "cell_type": "code",
   "execution_count": 78,
   "id": "8634714e-15e1-451f-816c-dac8c1837556",
   "metadata": {},
   "outputs": [
    {
     "name": "stdout",
     "output_type": "stream",
     "text": [
      "['S1', 'S1', 'S1', 'S1']\n",
      "['L001', 'L002', 'L003', 'L004']\n",
      "R2\n",
      "igvf_013\n",
      "Sublibrary_2\n"
     ]
    },
    {
     "data": {
      "text/plain": [
       "['fastq/igvf_013_Sublibrary_2_S1_L001_R2_001.fastq.gz',\n",
       " 'fastq/igvf_013_Sublibrary_2_S1_L002_R2_001.fastq.gz',\n",
       " 'fastq/igvf_013_Sublibrary_2_S1_L003_R2_001.fastq.gz',\n",
       " 'fastq/igvf_013_Sublibrary_2_S1_L004_R2_001.fastq.gz']"
      ]
     },
     "execution_count": 78,
     "metadata": {},
     "output_type": "execute_result"
    }
   ],
   "source": [
    "get_subpool_fastqs(wc, df, 'list', read='R2')"
   ]
  },
  {
   "cell_type": "code",
   "execution_count": 79,
   "id": "44942758-cd04-4d72-9a6a-9ebc1207bfe8",
   "metadata": {},
   "outputs": [
    {
     "name": "stdout",
     "output_type": "stream",
     "text": [
      "['S1', 'S1', 'S1', 'S1']\n",
      "['L001', 'L002', 'L003', 'L004']\n",
      "None\n",
      "igvf_013\n",
      "Sublibrary_2\n"
     ]
    },
    {
     "data": {
      "text/plain": [
       "' fastq/igvf_013_Sublibrary_2_S1_L001_R1_001.fastq.gz fastq/igvf_013_Sublibrary_2_S1_L001_R2_001.fastq.gz fastq/igvf_013_Sublibrary_2_S1_L002_R1_001.fastq.gz fastq/igvf_013_Sublibrary_2_S1_L002_R2_001.fastq.gz fastq/igvf_013_Sublibrary_2_S1_L003_R1_001.fastq.gz fastq/igvf_013_Sublibrary_2_S1_L003_R2_001.fastq.gz fastq/igvf_013_Sublibrary_2_S1_L004_R1_001.fastq.gz fastq/igvf_013_Sublibrary_2_S1_L004_R2_001.fastq.gz'"
      ]
     },
     "execution_count": 79,
     "metadata": {},
     "output_type": "execute_result"
    }
   ],
   "source": [
    "get_subpool_fastqs(wc, df, 'str')"
   ]
  },
  {
   "cell_type": "code",
   "execution_count": 23,
   "id": "55e480d4-f109-4805-b0b6-7151049360cd",
   "metadata": {},
   "outputs": [
    {
     "data": {
      "text/plain": [
       "['/dfs7/samlab/seyedam/IGVF/igvf_005/nova1/Sublibrary_2_S1_L001_R2_001.fastq.gz',\n",
       " '/dfs7/samlab/seyedam/IGVF/igvf_005/nova1/Sublibrary_2_S1_L002_R2_001.fastq.gz']"
      ]
     },
     "execution_count": 23,
     "metadata": {},
     "output_type": "execute_result"
    }
   ],
   "source": [
    "df.r2_fastq.tolist()[:2]"
   ]
  },
  {
   "cell_type": "code",
   "execution_count": null,
   "id": "1574aa71-47e8-44bf-be8c-0b9a53d42fbd",
   "metadata": {},
   "outputs": [],
   "source": []
  }
 ],
 "metadata": {
  "kernelspec": {
   "display_name": "Python 3",
   "language": "python",
   "name": "python3"
  },
  "language_info": {
   "codemirror_mode": {
    "name": "ipython",
    "version": 3
   },
   "file_extension": ".py",
   "mimetype": "text/x-python",
   "name": "python",
   "nbconvert_exporter": "python",
   "pygments_lexer": "ipython3",
   "version": "3.7.12"
  }
 },
 "nbformat": 4,
 "nbformat_minor": 5
}
